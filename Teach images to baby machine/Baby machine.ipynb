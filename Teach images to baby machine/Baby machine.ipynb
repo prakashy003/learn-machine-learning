{
 "cells": [
  {
   "cell_type": "code",
   "execution_count": 5,
   "id": "75f5bbb7",
   "metadata": {},
   "outputs": [
    {
     "ename": "ImportError",
     "evalue": "cannot import name 'itemfreq' from 'scipy.stats' (C:\\Users\\DELL\\AppData\\Local\\Programs\\Python\\Python311\\Lib\\site-packages\\scipy\\stats\\__init__.py)",
     "output_type": "error",
     "traceback": [
      "\u001b[1;31m---------------------------------------------------------------------------\u001b[0m",
      "\u001b[1;31mImportError\u001b[0m                               Traceback (most recent call last)",
      "Cell \u001b[1;32mIn[5], line 3\u001b[0m\n\u001b[0;32m      1\u001b[0m \u001b[38;5;28;01mimport\u001b[39;00m \u001b[38;5;21;01mnumpy\u001b[39;00m \u001b[38;5;28;01mas\u001b[39;00m \u001b[38;5;21;01mnp\u001b[39;00m\n\u001b[0;32m      2\u001b[0m \u001b[38;5;28;01mimport\u001b[39;00m \u001b[38;5;21;01mcv2\u001b[39;00m\n\u001b[1;32m----> 3\u001b[0m \u001b[38;5;28;01mfrom\u001b[39;00m \u001b[38;5;21;01mscipy\u001b[39;00m\u001b[38;5;21;01m.\u001b[39;00m\u001b[38;5;21;01mstats\u001b[39;00m \u001b[38;5;28;01mimport\u001b[39;00m itemfreq\n\u001b[0;32m      4\u001b[0m \u001b[38;5;28;01mimport\u001b[39;00m \u001b[38;5;21;01mmahotas\u001b[39;00m \u001b[38;5;28;01mas\u001b[39;00m \u001b[38;5;21;01mmt\u001b[39;00m\n\u001b[0;32m      6\u001b[0m \u001b[38;5;28;01mdef\u001b[39;00m \u001b[38;5;21mextract_features\u001b[39m(image):\n\u001b[0;32m      7\u001b[0m \t\u001b[38;5;66;03m# calculate haralick texture features for 4 types of adjacency\u001b[39;00m\n",
      "\u001b[1;31mImportError\u001b[0m: cannot import name 'itemfreq' from 'scipy.stats' (C:\\Users\\DELL\\AppData\\Local\\Programs\\Python\\Python311\\Lib\\site-packages\\scipy\\stats\\__init__.py)"
     ]
    }
   ],
   "source": [
    "import numpy as np\n",
    "import cv2\n",
    "from scipy.stats import itemfreq\n",
    "import mahotas as mt\n",
    "\n",
    "def extract_features(image):\n",
    "\t# calculate haralick texture features for 4 types of adjacency\n",
    "    gray = cv2.cvtColor(image, cv2.COLOR_BGR2GRAY)\n",
    "    textures = mt.features.haralick(gray)\n",
    "\t# take the mean of it and return it\n",
    "    ht_mean  = textures.mean(axis=0)\n",
    "    arr = np.float32(image)\n",
    "    pixels = arr.reshape((-1, 3))\n",
    "    n_colors = 3\n",
    "    criteria = (cv2.TERM_CRITERIA_EPS + cv2.TERM_CRITERIA_MAX_ITER, 200, .1)\n",
    "    flags = cv2.KMEANS_RANDOM_CENTERS\n",
    "    _, labels, centroids = cv2.kmeans(pixels, n_colors, None, criteria, 10, flags)\n",
    "    palette = np.uint8(centroids)\n",
    "    quantized = palette[labels.flatten()]\n",
    "    quantized = quantized.reshape(image.shape)\n",
    "    dominant_color = palette[np.argmax(itemfreq(labels)[:, -1])]\n",
    "    feat = np.concatenate((ht_mean,dominant_color))\n",
    "    return feat"
   ]
  },
  {
   "cell_type": "code",
   "execution_count": 4,
   "id": "8d13030b",
   "metadata": {},
   "outputs": [
    {
     "ename": "ModuleNotFoundError",
     "evalue": "No module named 'fruit_feature'",
     "output_type": "error",
     "traceback": [
      "\u001b[1;31m---------------------------------------------------------------------------\u001b[0m",
      "\u001b[1;31mModuleNotFoundError\u001b[0m                       Traceback (most recent call last)",
      "Cell \u001b[1;32mIn[4], line 6\u001b[0m\n\u001b[0;32m      4\u001b[0m \u001b[38;5;28;01mimport\u001b[39;00m \u001b[38;5;21;01mglob\u001b[39;00m\n\u001b[0;32m      5\u001b[0m \u001b[38;5;28;01mfrom\u001b[39;00m \u001b[38;5;21;01msklearn\u001b[39;00m \u001b[38;5;28;01mimport\u001b[39;00m tree\n\u001b[1;32m----> 6\u001b[0m \u001b[38;5;28;01mfrom\u001b[39;00m \u001b[38;5;21;01mfruit_feature\u001b[39;00m \u001b[38;5;28;01mimport\u001b[39;00m extract_features\n\u001b[0;32m      8\u001b[0m \u001b[38;5;66;03m# load the training dataset\u001b[39;00m\n\u001b[0;32m      9\u001b[0m train_path  \u001b[38;5;241m=\u001b[39m \u001b[38;5;124m\"\u001b[39m\u001b[38;5;124map-or-database/train\u001b[39m\u001b[38;5;124m\"\u001b[39m\n",
      "\u001b[1;31mModuleNotFoundError\u001b[0m: No module named 'fruit_feature'"
     ]
    }
   ],
   "source": [
    "import cv2\n",
    "import numpy as np\n",
    "import os\n",
    "import glob\n",
    "from sklearn import tree\n",
    "from fruit_feature import extract_features\n",
    "\n",
    "# load the training dataset\n",
    "train_path  = \"ap-or-database/train\"\n",
    "train_names = os.listdir(train_path)\n",
    "\n",
    "# empty list to hold feature vectors and train labels\n",
    "train_features = []\n",
    "train_labels   = []\n",
    "\n",
    "# loop over the training dataset\n",
    "for train_name in train_names:\n",
    "\tcur_path = train_path + \"/\" + train_name\n",
    "\tcur_label = train_name\n",
    "\ti = 1\n",
    "\n",
    "\tfor file in glob.glob(cur_path + \"/*.jpg\"):\n",
    "\t\tprint (\"Processing Image - {} in {}\".format(i, cur_label))\n",
    "\t\t# read the training image\n",
    "\t\timage = cv2.imread(file)\n",
    "\n",
    "\t\t# extract texture and color from the image\n",
    "\t\tfeatures = extract_features(image)\n",
    "\n",
    "\t\t# append the feature vector and label\n",
    "\t\ttrain_features.append(features)\n",
    "\t\ttrain_labels.append(cur_label)\n",
    "\n",
    "\t\t# show loop update\n",
    "\t\ti += 1\n",
    "\n",
    "\n",
    "# create the classifier\n",
    "clf=tree.DecisionTreeClassifier()\n",
    "\n",
    "# train the classifier\n",
    "print (\"Training model..\")\n",
    "clf.fit(train_features, train_labels)\n",
    "\n",
    "# loop over the test images\n",
    "test_path = (\"ap-or-database/test\")\n",
    "for file in glob.glob(test_path + \"/*.jpg\"):\n",
    "\t# read the input image\n",
    "    image = cv2.imread(file)\n",
    "\n",
    "\t\t# extract texture and color from the image\n",
    "    features = extract_features(image)\n",
    "\n",
    "\t# evaluate the model and predict label\n",
    "    prediction = clf.predict(features.reshape(1, -1))[0]\n",
    "\n",
    "\t# show the label\n",
    "    cv2.putText(image, prediction, (20,30), cv2.FONT_HERSHEY_SIMPLEX, 1.0, (235,188,0), 3)\n",
    "    print (\"Prediction - {}\".format(prediction))\n",
    "\n",
    "\t# display the output image\n",
    "    cv2.imshow(\"Test_Image\", image)\n",
    "    cv2.waitKey(0)\n",
    "cv2.destroyAllWindows()"
   ]
  },
  {
   "cell_type": "code",
   "execution_count": null,
   "id": "73cb9981",
   "metadata": {},
   "outputs": [],
   "source": []
  }
 ],
 "metadata": {
  "kernelspec": {
   "display_name": "Python 3 (ipykernel)",
   "language": "python",
   "name": "python3"
  },
  "language_info": {
   "codemirror_mode": {
    "name": "ipython",
    "version": 3
   },
   "file_extension": ".py",
   "mimetype": "text/x-python",
   "name": "python",
   "nbconvert_exporter": "python",
   "pygments_lexer": "ipython3",
   "version": "3.11.4"
  }
 },
 "nbformat": 4,
 "nbformat_minor": 5
}
