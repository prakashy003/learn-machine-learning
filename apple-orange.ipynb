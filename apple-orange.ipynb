{
 "cells": [
  {
   "cell_type": "code",
   "execution_count": 2,
   "id": "35579834",
   "metadata": {},
   "outputs": [
    {
     "name": "stdout",
     "output_type": "stream",
     "text": [
      "Enter the color of the fruit: red\n",
      "Enter the texture of the fruit: rough\n",
      "Fruit is an Orange\n"
     ]
    }
   ],
   "source": [
    "#Store number features in variables\n",
    "redcolor=0\n",
    "orangecolor=1\n",
    "smooth=0\n",
    "rough=1\n",
    "apple=0\n",
    "orange=1\n",
    "\n",
    "#Put all data points in an array - features and labels in seperate arrays\n",
    "features=[[redcolor,smooth],[orangecolor,rough],[redcolor,smooth],\n",
    "          [redcolor,smooth],[orangecolor,rough],[orangecolor,rough],[redcolor,smooth]]\n",
    "labels=[apple,orange,apple,apple,orange,orange,apple]\n",
    "\n",
    "#import decision tree function from sklearn package and train it on your data\n",
    "from sklearn import tree\n",
    "classifier=tree.DecisionTreeClassifier()\n",
    "classifier.fit(features,labels)\n",
    "\n",
    "#take fresh input from user\n",
    "inputcolor=input('Enter the color of the fruit: ')\n",
    "if (inputcolor=='red' or inputcolor=='redcolor'):\n",
    "    inputcolornew=0\n",
    "else:\n",
    "    inputcolornew=1\n",
    "inputtexture=input('Enter the texture of the fruit: ')    \n",
    "if (inputtexture=='smooth'):\n",
    "    inputtexturenew=0\n",
    "else:\n",
    "    inputtexturenew=1\n",
    "\n",
    "#predict output for user's input and print output\n",
    "if(classifier.predict([[inputcolornew,inputtexturenew]])==0):\n",
    "    print('Fruit is an Apple')\n",
    "else:\n",
    "    print('Fruit is an Orange')"
   ]
  },
  {
   "cell_type": "code",
   "execution_count": null,
   "id": "a5bf91ba",
   "metadata": {},
   "outputs": [],
   "source": []
  }
 ],
 "metadata": {
  "kernelspec": {
   "display_name": "Python 3 (ipykernel)",
   "language": "python",
   "name": "python3"
  },
  "language_info": {
   "codemirror_mode": {
    "name": "ipython",
    "version": 3
   },
   "file_extension": ".py",
   "mimetype": "text/x-python",
   "name": "python",
   "nbconvert_exporter": "python",
   "pygments_lexer": "ipython3",
   "version": "3.10.9"
  }
 },
 "nbformat": 4,
 "nbformat_minor": 5
}
